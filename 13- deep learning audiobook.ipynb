{
 "cells": [
  {
   "cell_type": "markdown",
   "metadata": {},
   "source": [
    "# Import the relevant libraries"
   ]
  },
  {
   "cell_type": "markdown",
   "metadata": {},
   "source": [
    "### Problem\n",
    "You are given data from an Audiobook app. Logically, it relates only to the audio versions of books. Each customer in the database has made a purchase at least once, that's why he/she is in the database. We want to create a machine learning algorithm based on our available data that can predict if a customer will buy again from the Audiobook company.\n",
    "\n",
    "The main idea is that if a customer has a low probability of coming back, there is no reason to spend any money on advertizing to him/her. If we can focus our efforts ONLY on customers that are likely to convert again, we can make great savings. Moreover, this model can identify the most important metrics for a customer to come back again. Identifying new customers creates value and growth opportunities.\n",
    "\n",
    "You have a .csv summarizing the data. There are several variables: Customer ID, Book length in mins_avg (average of all purchases), Book length in minutes_sum (sum of all purchases), Price Paid_avg (average of all purchases), Price paid_sum (sum of all purchases), Review (a Boolean variable), Review (out of 10), Total minutes listened, Completion (from 0 to 1), Support requests (number), and Last visited minus purchase date (in days).\n",
    "\n",
    "So these are the inputs (excluding customer ID, as it is completely arbitrary. It's more like a name, than a number).\n",
    "\n",
    "The targets are a Boolean variable (so 0, or 1). We are taking a period of 2 years in our inputs, and the next 6 months as targets. So, in fact, we are predicting if: based on the last 2 years of activity and engagement, a customer will convert in the next 6 months. 6 months sounds like a reasonable time. If they don't convert after 6 months, chances are they've gone to a competitor or didn't like the Audiobook way of digesting information.\n",
    "\n",
    "The task is simple: create a machine learning algorithm, which is able to predict if a customer will buy again.\n",
    "\n",
    "This is a classification problem with two classes: won't buy and will buy, represented by 0s and 1s.\n"
   ]
  },
  {
   "cell_type": "markdown",
   "metadata": {},
   "source": [
    "# Import the relevant libraries"
   ]
  },
  {
   "cell_type": "code",
   "execution_count": 8,
   "metadata": {},
   "outputs": [],
   "source": [
    "import numpy as np\n",
    "import tensorflow as tf"
   ]
  },
  {
   "cell_type": "markdown",
   "metadata": {},
   "source": [
    "# Data"
   ]
  },
  {
   "cell_type": "code",
   "execution_count": 9,
   "metadata": {},
   "outputs": [],
   "source": [
    "# we declare a temporary variable named npz that store each of the three data set as we load them\n",
    "npz = np.load('Audiobooks_data_train.npz')\n",
    "# as in each npz file inputs and targets are specified, we extract them separately\n",
    "train_inputs = npz['inputs'].astype(np.float) # to make sure our algorithm works correctly we make sure all inputs to be float\n",
    "\n",
    "# targets must be int because of sparse_categorical_crossentropy (we want to be able to smoothly one-hot encode them)\n",
    "train_targets = npz['targets'].astype(np.int) # to make sure our algorithm works correctly we make sure all targets to be int\n",
    "\n",
    "# us npz again to load the other data\n",
    "npz = np.load('Audiobooks_data_validation.npz')\n",
    "validation_inputs = npz['inputs'].astype(np.float)\n",
    "validation_targets = npz['targets'].astype(np.int)\n",
    "\n",
    "npz = np.load('Audiobooks_data_test.npz')\n",
    "test_inputs = npz['inputs'].astype(np.float)\n",
    "test_targets = npz['targets'].astype(np.int)\n",
    "\n",
    "# Finally note that unlike before our train validation and test data is simply an array form \n",
    "# instead of the iterator we use for the MNIST."
   ]
  },
  {
   "cell_type": "markdown",
   "metadata": {},
   "source": [
    "# Build the model"
   ]
  },
  {
   "cell_type": "markdown",
   "metadata": {},
   "source": [
    "### 1- Outline the model"
   ]
  },
  {
   "cell_type": "code",
   "execution_count": 10,
   "metadata": {},
   "outputs": [],
   "source": [
    "input_size = 10  # we have 10 features (predictors)\n",
    "output_size = 2  # buy or not buy (0,1)\n",
    "\n",
    "# Use same hidden layer size for both hidden layers. Not a necessity.\n",
    "hidden_layer_size = 50\n",
    "    \n",
    "# define how the model will look like\n",
    "model = tf.keras.Sequential([\n",
    "    \n",
    "   # as we have already preprocessed our data no need to flatten it\n",
    "    # removw : tf.keras.layers.Flatten(input_shape=(28, 28, 1)), # input layer\n",
    "    \n",
    "    # tf.keras.layers.Dense is basically implementing: output = activation(dot(input, weight) + bias)\n",
    "    # it takes several arguments, but the most important ones for us are the hidden_layer_size and the activation function\n",
    "    # we use 'relu' as our activation functions\n",
    "    # to know which activation function is better we can simply run the model with different activation functions and compare the results\n",
    "    tf.keras.layers.Dense(hidden_layer_size, activation='relu'), # 1st hidden layer\n",
    "    tf.keras.layers.Dense(hidden_layer_size, activation='relu'), # 2nd hidden layer\n",
    "    \n",
    "    # the final layer is no different, we just make sure to activate it with softmax since our model is a classifier\n",
    "    # why softmex: when we are creating a classifier, the activation function of the output layer must transform values into probabilities.\n",
    "    tf.keras.layers.Dense(output_size, activation='softmax') # output layer\n",
    "    ])"
   ]
  },
  {
   "cell_type": "markdown",
   "metadata": {},
   "source": [
    "### 2- Choose the optimizer and the loss function"
   ]
  },
  {
   "cell_type": "code",
   "execution_count": 11,
   "metadata": {},
   "outputs": [],
   "source": [
    "# we define the optimizer we'd like to use, we know that ADAM is the best becuase it combines momentum with RMSprop \n",
    "# the loss function, cross entropthy is the first option, however there are different types of cross entrophy. in tensorflow2\n",
    "# there are 3 differnet built-in variations of cross entrophy: binary cross entrophy, categorical cross entrophy, and sparse categorical cross entrophy.   \n",
    "# binary cross entrophy is for binary encoding, \n",
    "# categorical cross entrophy: for one-hot encoding,\n",
    "# we use sparse_categorical_crossentropy to ensure our integer targets are one-hot encoded appropriately when calculating the loss. \n",
    "# and the metrics we are interested in obtaining at each iteration\n",
    "model.compile(optimizer='adam', loss='sparse_categorical_crossentropy', metrics=['accuracy']) # metrics=['accuracy'] : because we want to calculate accuracy after each epoch\n",
    "\n"
   ]
  },
  {
   "cell_type": "markdown",
   "metadata": {},
   "source": [
    "### 3- Training"
   ]
  },
  {
   "cell_type": "code",
   "execution_count": 5,
   "metadata": {},
   "outputs": [
    {
     "name": "stdout",
     "output_type": "stream",
     "text": [
      "Train on 3579 samples, validate on 447 samples\n",
      "Epoch 1/100\n",
      "3579/3579 - 0s - loss: 0.5166 - accuracy: 0.8002 - val_loss: 0.3840 - val_accuracy: 0.8837\n",
      "Epoch 2/100\n",
      "3579/3579 - 0s - loss: 0.3525 - accuracy: 0.8785 - val_loss: 0.3067 - val_accuracy: 0.8814\n",
      "Epoch 3/100\n",
      "3579/3579 - 0s - loss: 0.3152 - accuracy: 0.8846 - val_loss: 0.2880 - val_accuracy: 0.8949\n",
      "Epoch 4/100\n",
      "3579/3579 - 0s - loss: 0.2957 - accuracy: 0.8908 - val_loss: 0.2668 - val_accuracy: 0.8971\n",
      "Epoch 5/100\n",
      "3579/3579 - 0s - loss: 0.2825 - accuracy: 0.8955 - val_loss: 0.2603 - val_accuracy: 0.8993\n",
      "Epoch 6/100\n",
      "3579/3579 - 0s - loss: 0.2739 - accuracy: 0.8994 - val_loss: 0.2462 - val_accuracy: 0.9083\n",
      "Epoch 7/100\n",
      "3579/3579 - 0s - loss: 0.2671 - accuracy: 0.9000 - val_loss: 0.2443 - val_accuracy: 0.9083\n",
      "Epoch 8/100\n",
      "3579/3579 - 0s - loss: 0.2624 - accuracy: 0.9011 - val_loss: 0.2405 - val_accuracy: 0.9128\n",
      "Epoch 9/100\n",
      "3579/3579 - 0s - loss: 0.2575 - accuracy: 0.9042 - val_loss: 0.2384 - val_accuracy: 0.9128\n",
      "Epoch 10/100\n",
      "3579/3579 - 0s - loss: 0.2519 - accuracy: 0.9064 - val_loss: 0.2288 - val_accuracy: 0.9172\n",
      "Epoch 11/100\n",
      "3579/3579 - 0s - loss: 0.2490 - accuracy: 0.9072 - val_loss: 0.2339 - val_accuracy: 0.9150\n",
      "Epoch 12/100\n",
      "3579/3579 - 0s - loss: 0.2460 - accuracy: 0.9058 - val_loss: 0.2247 - val_accuracy: 0.9172\n",
      "Epoch 13/100\n",
      "3579/3579 - 0s - loss: 0.2435 - accuracy: 0.9081 - val_loss: 0.2224 - val_accuracy: 0.9150\n",
      "Epoch 14/100\n",
      "3579/3579 - 0s - loss: 0.2405 - accuracy: 0.9092 - val_loss: 0.2286 - val_accuracy: 0.9195\n",
      "Epoch 15/100\n",
      "3579/3579 - 0s - loss: 0.2383 - accuracy: 0.9084 - val_loss: 0.2226 - val_accuracy: 0.9195\n",
      "Epoch 16/100\n",
      "3579/3579 - 0s - loss: 0.2377 - accuracy: 0.9106 - val_loss: 0.2229 - val_accuracy: 0.9195\n",
      "Epoch 17/100\n",
      "3579/3579 - 0s - loss: 0.2364 - accuracy: 0.9120 - val_loss: 0.2210 - val_accuracy: 0.9284\n",
      "Epoch 18/100\n",
      "3579/3579 - 0s - loss: 0.2351 - accuracy: 0.9117 - val_loss: 0.2292 - val_accuracy: 0.9239\n",
      "Epoch 19/100\n",
      "3579/3579 - 0s - loss: 0.2315 - accuracy: 0.9123 - val_loss: 0.2167 - val_accuracy: 0.9172\n",
      "Epoch 20/100\n",
      "3579/3579 - 0s - loss: 0.2306 - accuracy: 0.9128 - val_loss: 0.2167 - val_accuracy: 0.9217\n",
      "Epoch 21/100\n",
      "3579/3579 - 0s - loss: 0.2307 - accuracy: 0.9142 - val_loss: 0.2268 - val_accuracy: 0.9239\n",
      "Epoch 22/100\n",
      "3579/3579 - 0s - loss: 0.2290 - accuracy: 0.9165 - val_loss: 0.2203 - val_accuracy: 0.9239\n",
      "Epoch 23/100\n",
      "3579/3579 - 0s - loss: 0.2279 - accuracy: 0.9145 - val_loss: 0.2096 - val_accuracy: 0.9284\n",
      "Epoch 24/100\n",
      "3579/3579 - 0s - loss: 0.2290 - accuracy: 0.9151 - val_loss: 0.2242 - val_accuracy: 0.9284\n",
      "Epoch 25/100\n",
      "3579/3579 - 0s - loss: 0.2250 - accuracy: 0.9148 - val_loss: 0.2134 - val_accuracy: 0.9284\n",
      "Epoch 26/100\n",
      "3579/3579 - 0s - loss: 0.2240 - accuracy: 0.9165 - val_loss: 0.2145 - val_accuracy: 0.9306\n",
      "Epoch 27/100\n",
      "3579/3579 - 0s - loss: 0.2254 - accuracy: 0.9173 - val_loss: 0.2250 - val_accuracy: 0.9217\n",
      "Epoch 28/100\n",
      "3579/3579 - 0s - loss: 0.2238 - accuracy: 0.9170 - val_loss: 0.2129 - val_accuracy: 0.9262\n",
      "Epoch 29/100\n",
      "3579/3579 - 0s - loss: 0.2215 - accuracy: 0.9173 - val_loss: 0.2257 - val_accuracy: 0.9262\n",
      "Epoch 30/100\n",
      "3579/3579 - 0s - loss: 0.2216 - accuracy: 0.9156 - val_loss: 0.2181 - val_accuracy: 0.9284\n",
      "Epoch 31/100\n",
      "3579/3579 - 0s - loss: 0.2213 - accuracy: 0.9167 - val_loss: 0.2192 - val_accuracy: 0.9239\n",
      "Epoch 32/100\n",
      "3579/3579 - 0s - loss: 0.2216 - accuracy: 0.9170 - val_loss: 0.2126 - val_accuracy: 0.9262\n",
      "Epoch 33/100\n",
      "3579/3579 - 0s - loss: 0.2203 - accuracy: 0.9162 - val_loss: 0.2117 - val_accuracy: 0.9239\n",
      "Epoch 34/100\n",
      "3579/3579 - 0s - loss: 0.2198 - accuracy: 0.9181 - val_loss: 0.2167 - val_accuracy: 0.9239\n",
      "Epoch 35/100\n",
      "3579/3579 - 0s - loss: 0.2231 - accuracy: 0.9159 - val_loss: 0.2124 - val_accuracy: 0.9284\n",
      "Epoch 36/100\n",
      "3579/3579 - 0s - loss: 0.2173 - accuracy: 0.9198 - val_loss: 0.2124 - val_accuracy: 0.9284\n",
      "Epoch 37/100\n",
      "3579/3579 - 0s - loss: 0.2177 - accuracy: 0.9173 - val_loss: 0.2119 - val_accuracy: 0.9262\n",
      "Epoch 38/100\n",
      "3579/3579 - 0s - loss: 0.2177 - accuracy: 0.9184 - val_loss: 0.2131 - val_accuracy: 0.9284\n",
      "Epoch 39/100\n",
      "3579/3579 - 0s - loss: 0.2190 - accuracy: 0.9187 - val_loss: 0.2207 - val_accuracy: 0.9284\n",
      "Epoch 40/100\n",
      "3579/3579 - 0s - loss: 0.2172 - accuracy: 0.9181 - val_loss: 0.2200 - val_accuracy: 0.9284\n",
      "Epoch 41/100\n",
      "3579/3579 - 0s - loss: 0.2147 - accuracy: 0.9179 - val_loss: 0.2139 - val_accuracy: 0.9262\n",
      "Epoch 42/100\n",
      "3579/3579 - 0s - loss: 0.2164 - accuracy: 0.9179 - val_loss: 0.2095 - val_accuracy: 0.9284\n",
      "Epoch 43/100\n",
      "3579/3579 - 0s - loss: 0.2153 - accuracy: 0.9162 - val_loss: 0.2151 - val_accuracy: 0.9306\n",
      "Epoch 44/100\n",
      "3579/3579 - 0s - loss: 0.2184 - accuracy: 0.9201 - val_loss: 0.2157 - val_accuracy: 0.9262\n",
      "Epoch 45/100\n",
      "3579/3579 - 0s - loss: 0.2147 - accuracy: 0.9184 - val_loss: 0.2258 - val_accuracy: 0.9329\n",
      "Epoch 46/100\n",
      "3579/3579 - 0s - loss: 0.2140 - accuracy: 0.9190 - val_loss: 0.2152 - val_accuracy: 0.9262\n",
      "Epoch 47/100\n",
      "3579/3579 - 0s - loss: 0.2127 - accuracy: 0.9184 - val_loss: 0.2223 - val_accuracy: 0.9262\n",
      "Epoch 48/100\n",
      "3579/3579 - 0s - loss: 0.2126 - accuracy: 0.9198 - val_loss: 0.2136 - val_accuracy: 0.9329\n",
      "Epoch 49/100\n",
      "3579/3579 - 0s - loss: 0.2134 - accuracy: 0.9198 - val_loss: 0.2189 - val_accuracy: 0.9284\n",
      "Epoch 50/100\n",
      "3579/3579 - 0s - loss: 0.2120 - accuracy: 0.9179 - val_loss: 0.2099 - val_accuracy: 0.9329\n",
      "Epoch 51/100\n",
      "3579/3579 - 0s - loss: 0.2128 - accuracy: 0.9190 - val_loss: 0.2114 - val_accuracy: 0.9351\n",
      "Epoch 52/100\n",
      "3579/3579 - 0s - loss: 0.2119 - accuracy: 0.9187 - val_loss: 0.2106 - val_accuracy: 0.9284\n",
      "Epoch 53/100\n",
      "3579/3579 - 0s - loss: 0.2123 - accuracy: 0.9204 - val_loss: 0.2195 - val_accuracy: 0.9306\n",
      "Epoch 54/100\n",
      "3579/3579 - 0s - loss: 0.2091 - accuracy: 0.9187 - val_loss: 0.2189 - val_accuracy: 0.9284\n",
      "Epoch 55/100\n",
      "3579/3579 - 0s - loss: 0.2088 - accuracy: 0.9198 - val_loss: 0.2211 - val_accuracy: 0.9262\n",
      "Epoch 56/100\n",
      "3579/3579 - 0s - loss: 0.2104 - accuracy: 0.9198 - val_loss: 0.2249 - val_accuracy: 0.9262\n",
      "Epoch 57/100\n",
      "3579/3579 - 0s - loss: 0.2106 - accuracy: 0.9204 - val_loss: 0.2180 - val_accuracy: 0.9284\n",
      "Epoch 58/100\n",
      "3579/3579 - 0s - loss: 0.2115 - accuracy: 0.9187 - val_loss: 0.2170 - val_accuracy: 0.9262\n",
      "Epoch 59/100\n",
      "3579/3579 - 0s - loss: 0.2123 - accuracy: 0.9198 - val_loss: 0.2175 - val_accuracy: 0.9306\n",
      "Epoch 60/100\n",
      "3579/3579 - 0s - loss: 0.2108 - accuracy: 0.9201 - val_loss: 0.2256 - val_accuracy: 0.9306\n",
      "Epoch 61/100\n",
      "3579/3579 - 0s - loss: 0.2103 - accuracy: 0.9209 - val_loss: 0.2184 - val_accuracy: 0.9284\n",
      "Epoch 62/100\n",
      "3579/3579 - 0s - loss: 0.2122 - accuracy: 0.9198 - val_loss: 0.2226 - val_accuracy: 0.9329\n",
      "Epoch 63/100\n",
      "3579/3579 - 0s - loss: 0.2094 - accuracy: 0.9212 - val_loss: 0.2093 - val_accuracy: 0.9329\n",
      "Epoch 64/100\n",
      "3579/3579 - 0s - loss: 0.2096 - accuracy: 0.9212 - val_loss: 0.2173 - val_accuracy: 0.9306\n",
      "Epoch 65/100\n",
      "3579/3579 - 0s - loss: 0.2083 - accuracy: 0.9198 - val_loss: 0.2142 - val_accuracy: 0.9306\n",
      "Epoch 66/100\n",
      "3579/3579 - 0s - loss: 0.2138 - accuracy: 0.9190 - val_loss: 0.2255 - val_accuracy: 0.9172\n",
      "Epoch 67/100\n",
      "3579/3579 - 0s - loss: 0.2088 - accuracy: 0.9220 - val_loss: 0.2364 - val_accuracy: 0.9060\n",
      "Epoch 68/100\n",
      "3579/3579 - 0s - loss: 0.2104 - accuracy: 0.9184 - val_loss: 0.2121 - val_accuracy: 0.9306\n",
      "Epoch 69/100\n",
      "3579/3579 - 0s - loss: 0.2092 - accuracy: 0.9212 - val_loss: 0.2185 - val_accuracy: 0.9239\n",
      "Epoch 70/100\n",
      "3579/3579 - 0s - loss: 0.2069 - accuracy: 0.9201 - val_loss: 0.2193 - val_accuracy: 0.9284\n",
      "Epoch 71/100\n",
      "3579/3579 - 0s - loss: 0.2099 - accuracy: 0.9195 - val_loss: 0.2140 - val_accuracy: 0.9329\n",
      "Epoch 72/100\n",
      "3579/3579 - 0s - loss: 0.2079 - accuracy: 0.9223 - val_loss: 0.2134 - val_accuracy: 0.9284\n",
      "Epoch 73/100\n",
      "3579/3579 - 0s - loss: 0.2064 - accuracy: 0.9215 - val_loss: 0.2254 - val_accuracy: 0.9329\n",
      "Epoch 74/100\n",
      "3579/3579 - 0s - loss: 0.2054 - accuracy: 0.9206 - val_loss: 0.2170 - val_accuracy: 0.9329\n",
      "Epoch 75/100\n",
      "3579/3579 - 0s - loss: 0.2126 - accuracy: 0.9173 - val_loss: 0.2242 - val_accuracy: 0.9284\n",
      "Epoch 76/100\n",
      "3579/3579 - 0s - loss: 0.2069 - accuracy: 0.9215 - val_loss: 0.2191 - val_accuracy: 0.9284\n",
      "Epoch 77/100\n",
      "3579/3579 - 0s - loss: 0.2092 - accuracy: 0.9220 - val_loss: 0.2198 - val_accuracy: 0.9306\n",
      "Epoch 78/100\n",
      "3579/3579 - 0s - loss: 0.2063 - accuracy: 0.9198 - val_loss: 0.2386 - val_accuracy: 0.9172\n",
      "Epoch 79/100\n",
      "3579/3579 - 0s - loss: 0.2102 - accuracy: 0.9229 - val_loss: 0.2274 - val_accuracy: 0.9306\n"
     ]
    },
    {
     "name": "stdout",
     "output_type": "stream",
     "text": [
      "Epoch 80/100\n",
      "3579/3579 - 0s - loss: 0.2062 - accuracy: 0.9193 - val_loss: 0.2131 - val_accuracy: 0.9306\n",
      "Epoch 81/100\n",
      "3579/3579 - 0s - loss: 0.2084 - accuracy: 0.9209 - val_loss: 0.2203 - val_accuracy: 0.9284\n",
      "Epoch 82/100\n",
      "3579/3579 - 0s - loss: 0.2072 - accuracy: 0.9195 - val_loss: 0.2132 - val_accuracy: 0.9351\n",
      "Epoch 83/100\n",
      "3579/3579 - 0s - loss: 0.2090 - accuracy: 0.9204 - val_loss: 0.2116 - val_accuracy: 0.9351\n",
      "Epoch 84/100\n",
      "3579/3579 - 0s - loss: 0.2033 - accuracy: 0.9226 - val_loss: 0.2246 - val_accuracy: 0.9306\n",
      "Epoch 85/100\n",
      "3579/3579 - 0s - loss: 0.2036 - accuracy: 0.9212 - val_loss: 0.2090 - val_accuracy: 0.9351\n",
      "Epoch 86/100\n",
      "3579/3579 - 0s - loss: 0.2018 - accuracy: 0.9237 - val_loss: 0.2231 - val_accuracy: 0.9217\n",
      "Epoch 87/100\n",
      "3579/3579 - 0s - loss: 0.2050 - accuracy: 0.9201 - val_loss: 0.2271 - val_accuracy: 0.9306\n",
      "Epoch 88/100\n",
      "3579/3579 - 0s - loss: 0.2030 - accuracy: 0.9223 - val_loss: 0.2326 - val_accuracy: 0.9262\n",
      "Epoch 89/100\n",
      "3579/3579 - 0s - loss: 0.2032 - accuracy: 0.9209 - val_loss: 0.2240 - val_accuracy: 0.9217\n",
      "Epoch 90/100\n",
      "3579/3579 - 0s - loss: 0.2059 - accuracy: 0.9209 - val_loss: 0.2248 - val_accuracy: 0.9306\n",
      "Epoch 91/100\n",
      "3579/3579 - 0s - loss: 0.2033 - accuracy: 0.9223 - val_loss: 0.2267 - val_accuracy: 0.9239\n",
      "Epoch 92/100\n",
      "3579/3579 - 0s - loss: 0.2012 - accuracy: 0.9229 - val_loss: 0.2279 - val_accuracy: 0.9284\n",
      "Epoch 93/100\n",
      "3579/3579 - 0s - loss: 0.2031 - accuracy: 0.9223 - val_loss: 0.2293 - val_accuracy: 0.9217\n",
      "Epoch 94/100\n",
      "3579/3579 - 0s - loss: 0.2043 - accuracy: 0.9215 - val_loss: 0.2264 - val_accuracy: 0.9306\n",
      "Epoch 95/100\n",
      "3579/3579 - 0s - loss: 0.2007 - accuracy: 0.9223 - val_loss: 0.2210 - val_accuracy: 0.9329\n",
      "Epoch 96/100\n",
      "3579/3579 - 0s - loss: 0.2011 - accuracy: 0.9209 - val_loss: 0.2227 - val_accuracy: 0.9239\n",
      "Epoch 97/100\n",
      "3579/3579 - 0s - loss: 0.2009 - accuracy: 0.9226 - val_loss: 0.2173 - val_accuracy: 0.9329\n",
      "Epoch 98/100\n",
      "3579/3579 - 0s - loss: 0.2035 - accuracy: 0.9204 - val_loss: 0.2224 - val_accuracy: 0.9306\n",
      "Epoch 99/100\n",
      "3579/3579 - 0s - loss: 0.2029 - accuracy: 0.9209 - val_loss: 0.2264 - val_accuracy: 0.9284\n",
      "Epoch 100/100\n",
      "3579/3579 - 0s - loss: 0.2001 - accuracy: 0.9226 - val_loss: 0.2348 - val_accuracy: 0.9284\n"
     ]
    },
    {
     "data": {
      "text/plain": [
       "<tensorflow.python.keras.callbacks.History at 0x29e025c2b48>"
      ]
     },
     "execution_count": 5,
     "metadata": {},
     "output_type": "execute_result"
    }
   ],
   "source": [
    "# speaking of batch size we already said that we won't take advantage of iterable objects that contain the data, instead we will employ simple arrays, so the batching itself will be indicated when we fit the model.\n",
    "# setting HYPERPARAMETERS:\n",
    "BATCH_SIZE = 100\n",
    "MAX_EPOCHS = 100\n",
    "\n",
    "# we fit the model, specifying the training data, the total number of epochs\n",
    "# and the validation data we just created ourselves in the format: (inputs,targets)\n",
    "# we can also fit the data seperately\n",
    "model.fit(train_inputs,\n",
    "          train_targets,\n",
    "          batch_size = BATCH_SIZE,\n",
    "          epochs=MAX_EPOCHS, validation_data = (validation_inputs, validation_targets), verbose=2)"
   ]
  },
  {
   "cell_type": "code",
   "execution_count": 12,
   "metadata": {},
   "outputs": [],
   "source": [
    "# as you see from the above reaults: while the train-loss is somehow decreasing the validations loss is flactuating\n",
    "# which is an idicator of overfitting. \n",
    "# so epoch = 100 is too big and we should have employed an early stopping procedure which was missed\n"
   ]
  },
  {
   "cell_type": "markdown",
   "metadata": {},
   "source": [
    "#### Correction: set up an early stopping mechanism "
   ]
  },
  {
   "cell_type": "code",
   "execution_count": 13,
   "metadata": {},
   "outputs": [
    {
     "name": "stdout",
     "output_type": "stream",
     "text": [
      "Train on 3579 samples, validate on 447 samples\n",
      "Epoch 1/100\n",
      "3579/3579 - 0s - loss: 0.5117 - accuracy: 0.7972 - val_loss: 0.4000 - val_accuracy: 0.8613\n",
      "Epoch 2/100\n",
      "3579/3579 - 0s - loss: 0.3534 - accuracy: 0.8768 - val_loss: 0.3134 - val_accuracy: 0.8881\n",
      "Epoch 3/100\n",
      "3579/3579 - 0s - loss: 0.3115 - accuracy: 0.8849 - val_loss: 0.2870 - val_accuracy: 0.8926\n",
      "Epoch 4/100\n",
      "3579/3579 - 0s - loss: 0.2920 - accuracy: 0.8921 - val_loss: 0.2673 - val_accuracy: 0.8993\n",
      "Epoch 5/100\n",
      "3579/3579 - 0s - loss: 0.2780 - accuracy: 0.8961 - val_loss: 0.2541 - val_accuracy: 0.9060\n",
      "Epoch 6/100\n",
      "3579/3579 - 0s - loss: 0.2691 - accuracy: 0.8994 - val_loss: 0.2445 - val_accuracy: 0.9128\n",
      "Epoch 7/100\n",
      "3579/3579 - 0s - loss: 0.2613 - accuracy: 0.9003 - val_loss: 0.2392 - val_accuracy: 0.9128\n",
      "Epoch 8/100\n",
      "3579/3579 - 0s - loss: 0.2562 - accuracy: 0.9033 - val_loss: 0.2322 - val_accuracy: 0.9150\n",
      "Epoch 9/100\n",
      "3579/3579 - 0s - loss: 0.2516 - accuracy: 0.9036 - val_loss: 0.2401 - val_accuracy: 0.9217\n",
      "Epoch 10/100\n",
      "3579/3579 - 0s - loss: 0.2499 - accuracy: 0.9033 - val_loss: 0.2294 - val_accuracy: 0.9150\n",
      "Epoch 11/100\n",
      "3579/3579 - 0s - loss: 0.2462 - accuracy: 0.9075 - val_loss: 0.2239 - val_accuracy: 0.9217\n",
      "Epoch 12/100\n",
      "3579/3579 - 0s - loss: 0.2439 - accuracy: 0.9075 - val_loss: 0.2226 - val_accuracy: 0.9284\n",
      "Epoch 13/100\n",
      "3579/3579 - 0s - loss: 0.2407 - accuracy: 0.9095 - val_loss: 0.2220 - val_accuracy: 0.9217\n",
      "Epoch 14/100\n",
      "3579/3579 - 0s - loss: 0.2393 - accuracy: 0.9106 - val_loss: 0.2121 - val_accuracy: 0.9262\n",
      "Epoch 15/100\n",
      "3579/3579 - 0s - loss: 0.2362 - accuracy: 0.9109 - val_loss: 0.2162 - val_accuracy: 0.9217\n",
      "Epoch 16/100\n",
      "3579/3579 - 0s - loss: 0.2349 - accuracy: 0.9109 - val_loss: 0.2185 - val_accuracy: 0.9329\n"
     ]
    },
    {
     "data": {
      "text/plain": [
       "<tensorflow.python.keras.callbacks.History at 0x29e03d48088>"
      ]
     },
     "execution_count": 13,
     "metadata": {},
     "output_type": "execute_result"
    }
   ],
   "source": [
    "# in the fit method we have an argument called \"callbacks\"\n",
    "# callbacks are functions that are called at certain point during model training\n",
    "# there are many available functions for callbacks. https://www.tensorflow.org/api_docs/python/tf/keras/callbacks\n",
    "# here we use EarlyStopping: stop training when a monitores quantity has stopped improving\n",
    "# if we use validation cost, it compares the current validation cost to one epoch ago.if it is increasing it stops training.  \n",
    "# so we need to define another HYPERPARAMETER\n",
    "EARLY_STOPPING = tf.keras.callbacks.EarlyStopping(monitor='val_loss', patience=2)\n",
    "\n",
    "# add it to our model\n",
    "model.fit(train_inputs,\n",
    "          train_targets,\n",
    "          batch_size = BATCH_SIZE,\n",
    "          epochs=MAX_EPOCHS,\n",
    "          callbacks = [EARLY_STOPPING],\n",
    "          validation_data = (validation_inputs, validation_targets), verbose=2)"
   ]
  },
  {
   "cell_type": "code",
   "execution_count": 14,
   "metadata": {},
   "outputs": [],
   "source": [
    "# you can see it terminates the model after 7 epochs, and the accuracy is 91%, it means that we had overfitting\n",
    "# if the increase is insignificant we can allow the model to go for 1 or 2 more slide, we can change the patience\n",
    "# which is set by default to zero. because we should not be so srict about small increase in validation_loss\n"
   ]
  },
  {
   "cell_type": "markdown",
   "metadata": {},
   "source": [
    "### 4- Test"
   ]
  },
  {
   "cell_type": "code",
   "execution_count": 16,
   "metadata": {},
   "outputs": [
    {
     "name": "stdout",
     "output_type": "stream",
     "text": [
      "448/448 [==============================] - 0s 283us/sample - loss: 0.2798 - accuracy: 0.8862\n"
     ]
    }
   ],
   "source": [
    "# sometimes we have test_data which is ready for evaluate:\n",
    "# test_loss, test_accuracy = model.evaluate(test_data)\n",
    "# here our test data is Audiobooks_data_test, but we can't put it there because is not ready, but\n",
    "# as you remember we change the type of the numbers in this data\n",
    "# test_inputs = npz['inputs'].astype(np.float) ,test_targets = npz['targets'].astype(np.int)\n",
    "# so instead of using the whole data we can put targets and inputs separately\n",
    "test_loss, test_accuracy = model.evaluate(test_inputs, test_targets)"
   ]
  },
  {
   "cell_type": "code",
   "execution_count": 17,
   "metadata": {},
   "outputs": [
    {
     "name": "stdout",
     "output_type": "stream",
     "text": [
      "\n",
      "Test loss: 0.28. Test accuracy: 88.62%\n"
     ]
    }
   ],
   "source": [
    "print('\\nTest loss: {0:.2f}. Test accuracy: {1:.2f}%'.format(test_loss, test_accuracy*100.))"
   ]
  },
  {
   "cell_type": "code",
   "execution_count": null,
   "metadata": {},
   "outputs": [],
   "source": [
    "# that is the final accuracy of the model. "
   ]
  }
 ],
 "metadata": {
  "kernelspec": {
   "display_name": "Python 3",
   "language": "python",
   "name": "python3"
  },
  "language_info": {
   "codemirror_mode": {
    "name": "ipython",
    "version": 3
   },
   "file_extension": ".py",
   "mimetype": "text/x-python",
   "name": "python",
   "nbconvert_exporter": "python",
   "pygments_lexer": "ipython3",
   "version": "3.7.7"
  }
 },
 "nbformat": 4,
 "nbformat_minor": 4
}
